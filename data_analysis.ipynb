{
 "cells": [
  {
   "cell_type": "code",
   "execution_count": 5,
   "metadata": {},
   "outputs": [],
   "source": [
    "import pandas as pd\n",
    "import re\n",
    "import matplotlib.pyplot as plt\n",
    "%matplotlib inline"
   ]
  },
  {
   "cell_type": "code",
   "execution_count": 2,
   "metadata": {},
   "outputs": [
    {
     "name": "stdout",
     "output_type": "stream",
     "text": [
      "all_data.csv  data_analysis.ipynb\r\n"
     ]
    }
   ],
   "source": [
    "%ls"
   ]
  },
  {
   "cell_type": "code",
   "execution_count": 3,
   "metadata": {},
   "outputs": [
    {
     "data": {
      "text/html": [
       "<div>\n",
       "<style scoped>\n",
       "    .dataframe tbody tr th:only-of-type {\n",
       "        vertical-align: middle;\n",
       "    }\n",
       "\n",
       "    .dataframe tbody tr th {\n",
       "        vertical-align: top;\n",
       "    }\n",
       "\n",
       "    .dataframe thead th {\n",
       "        text-align: right;\n",
       "    }\n",
       "</style>\n",
       "<table border=\"1\" class=\"dataframe\">\n",
       "  <thead>\n",
       "    <tr style=\"text-align: right;\">\n",
       "      <th></th>\n",
       "      <th>document</th>\n",
       "      <th>date</th>\n",
       "      <th>label_1</th>\n",
       "      <th>label_2</th>\n",
       "    </tr>\n",
       "  </thead>\n",
       "  <tbody>\n",
       "    <tr>\n",
       "      <th>0</th>\n",
       "      <td>OCASIÓN vendo casa zona Tagarete. Ref.: 72473923</td>\n",
       "      <td>2017-07-21</td>\n",
       "      <td>Casas</td>\n",
       "      <td>Venta</td>\n",
       "    </tr>\n",
       "    <tr>\n",
       "      <th>1</th>\n",
       "      <td>VENDO casa (4 pisos) con tiendas, Avenida 6 de...</td>\n",
       "      <td>2017-07-21</td>\n",
       "      <td>Casas</td>\n",
       "      <td>Venta</td>\n",
       "    </tr>\n",
       "    <tr>\n",
       "      <th>2</th>\n",
       "      <td>CASA en venta. Tarapacá No. 2045 Celular 69577670</td>\n",
       "      <td>2017-07-21</td>\n",
       "      <td>Casas</td>\n",
       "      <td>Venta</td>\n",
       "    </tr>\n",
       "    <tr>\n",
       "      <th>3</th>\n",
       "      <td>CASA en venta, departamentos completos, Santa ...</td>\n",
       "      <td>2017-07-21</td>\n",
       "      <td>Casas</td>\n",
       "      <td>Venta</td>\n",
       "    </tr>\n",
       "    <tr>\n",
       "      <th>4</th>\n",
       "      <td>CASA en venta zona Mercado Young 300 m2. Ref.:...</td>\n",
       "      <td>2017-07-21</td>\n",
       "      <td>Casas</td>\n",
       "      <td>Venta</td>\n",
       "    </tr>\n",
       "  </tbody>\n",
       "</table>\n",
       "</div>"
      ],
      "text/plain": [
       "                                            document        date label_1  \\\n",
       "0   OCASIÓN vendo casa zona Tagarete. Ref.: 72473923  2017-07-21   Casas   \n",
       "1  VENDO casa (4 pisos) con tiendas, Avenida 6 de...  2017-07-21   Casas   \n",
       "2  CASA en venta. Tarapacá No. 2045 Celular 69577670  2017-07-21   Casas   \n",
       "3  CASA en venta, departamentos completos, Santa ...  2017-07-21   Casas   \n",
       "4  CASA en venta zona Mercado Young 300 m2. Ref.:...  2017-07-21   Casas   \n",
       "\n",
       "  label_2  \n",
       "0   Venta  \n",
       "1   Venta  \n",
       "2   Venta  \n",
       "3   Venta  \n",
       "4   Venta  "
      ]
     },
     "execution_count": 3,
     "metadata": {},
     "output_type": "execute_result"
    }
   ],
   "source": [
    "df = pd.read_csv(\"all_data.csv\")\n",
    "df = df.drop(\"Unnamed: 4\", axis=1)\n",
    "df.head()"
   ]
  },
  {
   "cell_type": "code",
   "execution_count": 3,
   "metadata": {},
   "outputs": [
    {
     "data": {
      "text/html": [
       "<div>\n",
       "<style scoped>\n",
       "    .dataframe tbody tr th:only-of-type {\n",
       "        vertical-align: middle;\n",
       "    }\n",
       "\n",
       "    .dataframe tbody tr th {\n",
       "        vertical-align: top;\n",
       "    }\n",
       "\n",
       "    .dataframe thead th {\n",
       "        text-align: right;\n",
       "    }\n",
       "</style>\n",
       "<table border=\"1\" class=\"dataframe\">\n",
       "  <thead>\n",
       "    <tr style=\"text-align: right;\">\n",
       "      <th></th>\n",
       "      <th>document</th>\n",
       "      <th>date</th>\n",
       "      <th>label_1</th>\n",
       "      <th>label_2</th>\n",
       "    </tr>\n",
       "  </thead>\n",
       "  <tbody>\n",
       "    <tr>\n",
       "      <th>count</th>\n",
       "      <td>111454</td>\n",
       "      <td>111454</td>\n",
       "      <td>111454</td>\n",
       "      <td>111454</td>\n",
       "    </tr>\n",
       "    <tr>\n",
       "      <th>unique</th>\n",
       "      <td>25164</td>\n",
       "      <td>4</td>\n",
       "      <td>55</td>\n",
       "      <td>241</td>\n",
       "    </tr>\n",
       "    <tr>\n",
       "      <th>top</th>\n",
       "      <td>EMPLEOS</td>\n",
       "      <td>2017-07-21</td>\n",
       "      <td>Casas</td>\n",
       "      <td>Venta</td>\n",
       "    </tr>\n",
       "    <tr>\n",
       "      <th>freq</th>\n",
       "      <td>626</td>\n",
       "      <td>111445</td>\n",
       "      <td>23843</td>\n",
       "      <td>48172</td>\n",
       "    </tr>\n",
       "  </tbody>\n",
       "</table>\n",
       "</div>"
      ],
      "text/plain": [
       "       document        date label_1 label_2\n",
       "count    111454      111454  111454  111454\n",
       "unique    25164           4      55     241\n",
       "top     EMPLEOS  2017-07-21   Casas   Venta\n",
       "freq        626      111445   23843   48172"
      ]
     },
     "execution_count": 3,
     "metadata": {},
     "output_type": "execute_result"
    }
   ],
   "source": [
    "df.describe()"
   ]
  },
  {
   "cell_type": "code",
   "execution_count": 17,
   "metadata": {},
   "outputs": [
    {
     "data": {
      "text/html": [
       "<div>\n",
       "<style scoped>\n",
       "    .dataframe tbody tr th:only-of-type {\n",
       "        vertical-align: middle;\n",
       "    }\n",
       "\n",
       "    .dataframe tbody tr th {\n",
       "        vertical-align: top;\n",
       "    }\n",
       "\n",
       "    .dataframe thead th {\n",
       "        text-align: right;\n",
       "    }\n",
       "</style>\n",
       "<table border=\"1\" class=\"dataframe\">\n",
       "  <thead>\n",
       "    <tr style=\"text-align: right;\">\n",
       "      <th></th>\n",
       "      <th>document</th>\n",
       "      <th>date</th>\n",
       "      <th>label_1</th>\n",
       "      <th>label_2</th>\n",
       "      <th>numbers</th>\n",
       "    </tr>\n",
       "  </thead>\n",
       "  <tbody>\n",
       "    <tr>\n",
       "      <th>0</th>\n",
       "      <td>OCASIÓN vendo casa zona Tagarete. Ref.: 72473923</td>\n",
       "      <td>2017-07-21</td>\n",
       "      <td>Casas</td>\n",
       "      <td>Venta</td>\n",
       "      <td>[72473923]</td>\n",
       "    </tr>\n",
       "    <tr>\n",
       "      <th>1</th>\n",
       "      <td>VENDO casa (4 pisos) con tiendas, Avenida 6 de...</td>\n",
       "      <td>2017-07-21</td>\n",
       "      <td>Casas</td>\n",
       "      <td>Venta</td>\n",
       "      <td>[72308676, 73803343]</td>\n",
       "    </tr>\n",
       "    <tr>\n",
       "      <th>2</th>\n",
       "      <td>CASA en venta. Tarapacá No. 2045 Celular 69577670</td>\n",
       "      <td>2017-07-21</td>\n",
       "      <td>Casas</td>\n",
       "      <td>Venta</td>\n",
       "      <td>[69577670]</td>\n",
       "    </tr>\n",
       "    <tr>\n",
       "      <th>3</th>\n",
       "      <td>CASA en venta, departamentos completos, Santa ...</td>\n",
       "      <td>2017-07-21</td>\n",
       "      <td>Casas</td>\n",
       "      <td>Venta</td>\n",
       "      <td>[72308001]</td>\n",
       "    </tr>\n",
       "    <tr>\n",
       "      <th>4</th>\n",
       "      <td>CASA en venta zona Mercado Young 300 m2. Ref.:...</td>\n",
       "      <td>2017-07-21</td>\n",
       "      <td>Casas</td>\n",
       "      <td>Venta</td>\n",
       "      <td>[72488590, 67212183]</td>\n",
       "    </tr>\n",
       "  </tbody>\n",
       "</table>\n",
       "</div>"
      ],
      "text/plain": [
       "                                            document        date label_1  \\\n",
       "0   OCASIÓN vendo casa zona Tagarete. Ref.: 72473923  2017-07-21   Casas   \n",
       "1  VENDO casa (4 pisos) con tiendas, Avenida 6 de...  2017-07-21   Casas   \n",
       "2  CASA en venta. Tarapacá No. 2045 Celular 69577670  2017-07-21   Casas   \n",
       "3  CASA en venta, departamentos completos, Santa ...  2017-07-21   Casas   \n",
       "4  CASA en venta zona Mercado Young 300 m2. Ref.:...  2017-07-21   Casas   \n",
       "\n",
       "  label_2               numbers  \n",
       "0   Venta            [72473923]  \n",
       "1   Venta  [72308676, 73803343]  \n",
       "2   Venta            [69577670]  \n",
       "3   Venta            [72308001]  \n",
       "4   Venta  [72488590, 67212183]  "
      ]
     },
     "execution_count": 17,
     "metadata": {},
     "output_type": "execute_result"
    }
   ],
   "source": [
    "#df['numbers'] = df['document'].apply(lambda x: re.sub(\"[0-9]+\", '', x))\n",
    "def find_telefon_numbers(x):\n",
    "    numbers = []\n",
    "    result = re.findall(\"[0-9]+\", x)\n",
    "    for n in result:\n",
    "        if (len(n)> 7):\n",
    "            numbers.append(n)\n",
    "    return numbers\n",
    "        \n",
    "\n",
    "df['numbers'] = df['document'].apply(lambda x: find_telefon_numbers(x) )\n",
    "#lambda x: True if x % 2 == 0 else False\n",
    "\n",
    "df.head()"
   ]
  },
  {
   "cell_type": "code",
   "execution_count": 32,
   "metadata": {},
   "outputs": [
    {
     "name": "stdout",
     "output_type": "stream",
     "text": [
      "122662\n",
      "['72473923', '72308676', '73803343', '69577670', '72308001']\n",
      "8028\n"
     ]
    }
   ],
   "source": [
    "import itertools\n",
    "\n",
    "numbers = df[\"numbers\"].tolist()\n",
    "numbers = list(itertools.chain.from_iterable(numbers))\n",
    "\n",
    "print(len(list(numbers)))\n",
    "print(numbers[:5])\n",
    "print(len(set(numbers)))"
   ]
  },
  {
   "cell_type": "code",
   "execution_count": 33,
   "metadata": {},
   "outputs": [
    {
     "data": {
      "image/png": "[encoded data removed]",
      "text/plain": [
       "<Figure size 432x288 with 1 Axes>"
      ]
     },
     "metadata": {},
     "output_type": "display_data"
    }
   ],
   "source": [
    "from collections import Counter\n",
    "import numpy as np\n",
    "\n",
    "# Read CSV file, get author names and counts.\n",
    "counter = Counter(numbers)\n",
    "author_names = counter.keys()\n",
    "author_counts = counter.values()\n",
    "\n",
    "# Plot histogram using matplotlib bar().\n",
    "indexes = np.arange(len(author_names))\n",
    "width = 0.7\n",
    "plt.bar(indexes, author_counts, width)\n",
    "plt.xticks(indexes + width * 0.5, author_names)\n",
    "plt.show()"
   ]
  },
  {
   "cell_type": "code",
   "execution_count": 8,
   "metadata": {},
   "outputs": [
    {
     "name": "stdout",
     "output_type": "stream",
     "text": [
      "CASA en venta zona Mercado Young 300 m2. Ref.: 72488590, 67212183\n",
      "['300', '2', '72488590', '67212183']\n"
     ]
    }
   ],
   "source": [
    "t = df[\"document\"][4]\n",
    "print(t)\n",
    "pattern_name = re.compile(\"[0-9]+\")\n",
    "#pattern_two = re.compile(\"[A-Z]+\\n+[a-z]\")\n",
    "result = pattern_name.findall(t)\n",
    "\n",
    "print(result)\n"
   ]
  }
 ],
 "metadata": {
  "kernelspec": {
   "display_name": "python36 (nlp)",
   "language": "python",
   "name": "nlp"
  },
  "language_info": {
   "codemirror_mode": {
    "name": "ipython",
    "version": 3
   },
   "file_extension": ".py",
   "mimetype": "text/x-python",
   "name": "python",
   "nbconvert_exporter": "python",
   "pygments_lexer": "ipython3",
   "version": "3.6.8"
  }
 },
 "nbformat": 4,
 "nbformat_minor": 2
}
